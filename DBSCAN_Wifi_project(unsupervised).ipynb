{
 "cells": [
  {
   "cell_type": "code",
   "execution_count": 1,
   "id": "494f4a54-7f7f-4371-9429-d888cdd61e70",
   "metadata": {},
   "outputs": [],
   "source": [
    "import numpy as np\n",
    "import pandas as pd\n",
    "import matplotlib.pyplot as plt\n",
    "import seaborn as sns\n",
    "from sklearn.cluster import DBSCAN\n",
    "from sklearn.preprocessing import StandardScaler"
   ]
  },
  {
   "cell_type": "code",
   "execution_count": 5,
   "id": "340f2b8c-de25-42df-8817-289d4403b0d7",
   "metadata": {},
   "outputs": [],
   "source": [
    "np.random.seed(42)"
   ]
  },
  {
   "cell_type": "code",
   "execution_count": 7,
   "id": "58b2bb1d-7a2a-4c98-a9d1-55407dc711ff",
   "metadata": {},
   "outputs": [],
   "source": [
    "strong_signal = np.random.normal(loc = [10, -30], scale = \n",
    "                                \n",
    "                                [3, 5], size = (50,2)) #strong signal"
   ]
  },
  {
   "cell_type": "code",
   "execution_count": 9,
   "id": "89076421-1e00-4530-bbe8-1e45543a2b88",
   "metadata": {},
   "outputs": [
    {
     "data": {
      "text/plain": [
       "array([[ 11.49014246, -30.69132151],\n",
       "       [ 11.94306561, -22.38485072],\n",
       "       [  9.29753988, -31.17068478],\n",
       "       [ 14.73763845, -26.16282635],\n",
       "       [  8.59157684, -27.28719978],\n",
       "       [  8.60974692, -32.32864877],\n",
       "       [ 10.72588681, -39.56640122],\n",
       "       [  4.8252465 , -32.81143765],\n",
       "       [  6.96150664, -28.42876334],\n",
       "       [  7.27592777, -37.06151851],\n",
       "       [ 14.39694631, -31.1288815 ],\n",
       "       [ 10.20258461, -37.12374093],\n",
       "       [  8.36685183, -29.44538705],\n",
       "       [  6.54701927, -28.12150991],\n",
       "       [  8.19808393, -31.45846875],\n",
       "       [  8.19488016, -20.73860908],\n",
       "       [  9.95950833, -35.28855464],\n",
       "       [ 12.46763474, -36.10421825],\n",
       "       [ 10.62659079, -39.79835062],\n",
       "       [  6.01544185, -29.01569382],\n",
       "       [ 12.21539974, -29.14315859],\n",
       "       [  9.65305515, -31.50551848],\n",
       "       [  5.56443403, -33.59922104],\n",
       "       [  8.61808369, -24.71438887],\n",
       "       [ 11.03085487, -38.81520078],\n",
       "       [ 10.97225191, -31.9254114 ],\n",
       "       [  7.969234  , -26.94161856],\n",
       "       [ 13.09299857, -25.3435994 ],\n",
       "       [  7.48234743, -31.54606188],\n",
       "       [ 10.99379029, -25.12227436],\n",
       "       [  8.56247729, -30.92829488],\n",
       "       [  6.68099508, -35.98103312],\n",
       "       [ 12.43757747, -23.21879986],\n",
       "       [  9.78396964, -24.98233551],\n",
       "       [ 11.08490808, -33.22559877],\n",
       "       [ 11.08418682, -22.30981717],\n",
       "       [  9.89252188, -22.17678172],\n",
       "       [  2.14076469, -25.89048748],\n",
       "       [ 10.2611412 , -31.49503675],\n",
       "       [ 10.27528233, -39.93784457],\n",
       "       [  9.34098434, -28.21443714],\n",
       "       [ 14.43368213, -32.59135109],\n",
       "       [  7.57451919, -32.50878522],\n",
       "       [ 12.74620635, -28.35624445],\n",
       "       [  8.41071939, -27.43366283],\n",
       "       [ 10.29123265, -25.15677505],\n",
       "       [  7.89384072, -31.63831073],\n",
       "       [  8.82367554, -37.31757474],\n",
       "       [ 10.88836083, -28.69472364],\n",
       "       [ 10.01534037, -31.17293567]])"
      ]
     },
     "execution_count": 9,
     "metadata": {},
     "output_type": "execute_result"
    }
   ],
   "source": [
    "strong_signal"
   ]
  },
  {
   "cell_type": "code",
   "execution_count": 11,
   "id": "4fc88296-371b-4bed-85b5-141e62286183",
   "metadata": {},
   "outputs": [],
   "source": [
    "medium_signal = np.random.normal(loc = [30, -60], scale = \n",
    "                                \n",
    "                                [5, 8], size = (40,2)) #medium signal"
   ]
  },
  {
   "cell_type": "code",
   "execution_count": 13,
   "id": "d15a371c-75e4-4acf-b7ca-20c4ae56e3ef",
   "metadata": {},
   "outputs": [
    {
     "data": {
      "text/plain": [
       "array([[ 22.92314629, -63.36516258],\n",
       "       [ 28.28642742, -66.41821815],\n",
       "       [ 29.19357144, -56.76759315],\n",
       "       [ 39.43092951, -58.6033775 ],\n",
       "       [ 31.28775195, -60.59556733],\n",
       "       [ 20.40614392, -60.212111  ],\n",
       "       [ 30.30115105, -40.2940631 ],\n",
       "       [ 29.03819518, -57.58762126],\n",
       "       [ 29.82644115, -69.3494243 ],\n",
       "       [ 35.71411407, -53.98453574],\n",
       "       [ 33.95515974, -67.27509964],\n",
       "       [ 37.01397155, -71.2148085 ],\n",
       "       [ 32.93428547, -42.47635499],\n",
       "       [ 25.04731837, -64.53038184],\n",
       "       [ 30.49825683, -64.02780523],\n",
       "       [ 22.24668284, -59.4514962 ],\n",
       "       [ 24.68848143, -56.21126055],\n",
       "       [ 25.40287883, -47.60052476],\n",
       "       [ 26.08373354, -62.57649213],\n",
       "       [ 34.06758609, -69.84691453],\n",
       "       [ 31.13729967, -49.54285797],\n",
       "       [ 21.96258383, -58.52292913],\n",
       "       [ 31.29941397, -53.74541703],\n",
       "       [ 23.81524645, -70.5636529 ],\n",
       "       [ 32.60970783, -57.62412261],\n",
       "       [ 31.25246425, -57.22841432],\n",
       "       [ 26.59987639, -58.14197042],\n",
       "       [ 31.46536237, -65.71481134],\n",
       "       [ 39.32887256, -56.20933663],\n",
       "       [ 24.04348251, -54.74757113],\n",
       "       [ 25.12659165, -53.70332317],\n",
       "       [ 35.7929779 , -66.56545855],\n",
       "       [ 34.81688065, -56.69775258],\n",
       "       [ 34.1103008 , -44.82565614],\n",
       "       [ 28.77305942, -66.02988931],\n",
       "       [ 25.55242785, -66.52648228],\n",
       "       [ 29.61449145, -57.2707842 ],\n",
       "       [ 31.383454  , -53.38253401],\n",
       "       [ 30.06500946, -48.37172738],\n",
       "       [ 28.67671583, -38.23864667]])"
      ]
     },
     "execution_count": 13,
     "metadata": {},
     "output_type": "execute_result"
    }
   ],
   "source": [
    "medium_signal"
   ]
  },
  {
   "cell_type": "code",
   "execution_count": 15,
   "id": "0b182ea6-9391-4762-af95-4a45a8e7786b",
   "metadata": {},
   "outputs": [],
   "source": [
    "weak_signal = np.random.normal(loc = [50, -80], scale = \n",
    "                                \n",
    "                                [7, 10], size = (30,2)) #weak signal"
   ]
  },
  {
   "cell_type": "code",
   "execution_count": 17,
   "id": "be891ba5-b80b-471e-a007-c32f71fbe21a",
   "metadata": {},
   "outputs": [
    {
     "data": {
      "text/plain": [
       "array([[ 54.37967143, -88.57157556],\n",
       "       [ 42.50375251, -75.17527585],\n",
       "       [ 48.4357605 , -72.85999506],\n",
       "       [ 53.31266337, -80.72828913],\n",
       "       [ 44.07244397, -95.14847225],\n",
       "       [ 46.87439534, -71.43601206],\n",
       "       [ 51.49865621, -92.45738779],\n",
       "       [ 51.21226648, -76.1468262 ],\n",
       "       [ 43.81299795, -78.46274894],\n",
       "       [ 50.40746103, -91.42970298],\n",
       "       [ 52.50451152, -74.39215474],\n",
       "       [ 57.5813587 , -69.46197948],\n",
       "       [ 40.35631442, -89.3782504 ],\n",
       "       [ 53.60524687, -74.86214049],\n",
       "       [ 53.6053338 , -41.47268509],\n",
       "       [ 53.99623357, -68.6443436 ],\n",
       "       [ 56.67801234, -73.48608749],\n",
       "       [ 47.79311529, -72.4103078 ],\n",
       "       [ 44.5902235 , -82.36818607],\n",
       "       [ 46.60245517, -79.18125861],\n",
       "       [ 66.20260997, -98.67265193],\n",
       "       [ 54.80382133, -96.12715871],\n",
       "       [ 46.69647694, -69.11049403],\n",
       "       [ 50.44996013, -90.77744778],\n",
       "       [ 44.99287404, -73.20402251],\n",
       "       [ 44.88743358, -77.8354141 ],\n",
       "       [ 50.31900288, -86.51600348],\n",
       "       [ 65.00760863, -73.66080978],\n",
       "       [ 35.82400189, -78.13545685],\n",
       "       [ 45.36749475, -71.47566665]])"
      ]
     },
     "execution_count": 17,
     "metadata": {},
     "output_type": "execute_result"
    }
   ],
   "source": [
    "weak_signal"
   ]
  },
  {
   "cell_type": "code",
   "execution_count": 19,
   "id": "4d75c12a-8b74-4fc3-bf9d-29298112e5ba",
   "metadata": {},
   "outputs": [],
   "source": [
    "#need to give criterion for outliers(range)"
   ]
  },
  {
   "cell_type": "code",
   "execution_count": 25,
   "id": "84a9bbae-08f6-45e7-bc71-46966f669669",
   "metadata": {},
   "outputs": [],
   "source": [
    "outliers = np.array([[5, -95],[50, -100], [70,-110], [80, -120], [90,-130]])"
   ]
  },
  {
   "cell_type": "code",
   "execution_count": 27,
   "id": "cb3d67c9-8b49-4a4e-9bb3-57f092d58c2b",
   "metadata": {},
   "outputs": [
    {
     "data": {
      "text/plain": [
       "array([[   5,  -95],\n",
       "       [  50, -100],\n",
       "       [  70, -110],\n",
       "       [  80, -120],\n",
       "       [  90, -130]])"
      ]
     },
     "execution_count": 27,
     "metadata": {},
     "output_type": "execute_result"
    }
   ],
   "source": [
    "outliers\n"
   ]
  },
  {
   "cell_type": "code",
   "execution_count": 29,
   "id": "7610117f-c7a7-4600-86b5-0170cacd655c",
   "metadata": {},
   "outputs": [],
   "source": [
    "wifi_signals = np.vstack((strong_signal, medium_signal, weak_signal, outliers)) #vstack is to combine"
   ]
  },
  {
   "cell_type": "code",
   "execution_count": 31,
   "id": "36ea3f60-e1ea-457d-a832-0ff945687bc1",
   "metadata": {},
   "outputs": [
    {
     "data": {
      "text/plain": [
       "array([[  11.49014246,  -30.69132151],\n",
       "       [  11.94306561,  -22.38485072],\n",
       "       [   9.29753988,  -31.17068478],\n",
       "       [  14.73763845,  -26.16282635],\n",
       "       [   8.59157684,  -27.28719978],\n",
       "       [   8.60974692,  -32.32864877],\n",
       "       [  10.72588681,  -39.56640122],\n",
       "       [   4.8252465 ,  -32.81143765],\n",
       "       [   6.96150664,  -28.42876334],\n",
       "       [   7.27592777,  -37.06151851],\n",
       "       [  14.39694631,  -31.1288815 ],\n",
       "       [  10.20258461,  -37.12374093],\n",
       "       [   8.36685183,  -29.44538705],\n",
       "       [   6.54701927,  -28.12150991],\n",
       "       [   8.19808393,  -31.45846875],\n",
       "       [   8.19488016,  -20.73860908],\n",
       "       [   9.95950833,  -35.28855464],\n",
       "       [  12.46763474,  -36.10421825],\n",
       "       [  10.62659079,  -39.79835062],\n",
       "       [   6.01544185,  -29.01569382],\n",
       "       [  12.21539974,  -29.14315859],\n",
       "       [   9.65305515,  -31.50551848],\n",
       "       [   5.56443403,  -33.59922104],\n",
       "       [   8.61808369,  -24.71438887],\n",
       "       [  11.03085487,  -38.81520078],\n",
       "       [  10.97225191,  -31.9254114 ],\n",
       "       [   7.969234  ,  -26.94161856],\n",
       "       [  13.09299857,  -25.3435994 ],\n",
       "       [   7.48234743,  -31.54606188],\n",
       "       [  10.99379029,  -25.12227436],\n",
       "       [   8.56247729,  -30.92829488],\n",
       "       [   6.68099508,  -35.98103312],\n",
       "       [  12.43757747,  -23.21879986],\n",
       "       [   9.78396964,  -24.98233551],\n",
       "       [  11.08490808,  -33.22559877],\n",
       "       [  11.08418682,  -22.30981717],\n",
       "       [   9.89252188,  -22.17678172],\n",
       "       [   2.14076469,  -25.89048748],\n",
       "       [  10.2611412 ,  -31.49503675],\n",
       "       [  10.27528233,  -39.93784457],\n",
       "       [   9.34098434,  -28.21443714],\n",
       "       [  14.43368213,  -32.59135109],\n",
       "       [   7.57451919,  -32.50878522],\n",
       "       [  12.74620635,  -28.35624445],\n",
       "       [   8.41071939,  -27.43366283],\n",
       "       [  10.29123265,  -25.15677505],\n",
       "       [   7.89384072,  -31.63831073],\n",
       "       [   8.82367554,  -37.31757474],\n",
       "       [  10.88836083,  -28.69472364],\n",
       "       [  10.01534037,  -31.17293567],\n",
       "       [  22.92314629,  -63.36516258],\n",
       "       [  28.28642742,  -66.41821815],\n",
       "       [  29.19357144,  -56.76759315],\n",
       "       [  39.43092951,  -58.6033775 ],\n",
       "       [  31.28775195,  -60.59556733],\n",
       "       [  20.40614392,  -60.212111  ],\n",
       "       [  30.30115105,  -40.2940631 ],\n",
       "       [  29.03819518,  -57.58762126],\n",
       "       [  29.82644115,  -69.3494243 ],\n",
       "       [  35.71411407,  -53.98453574],\n",
       "       [  33.95515974,  -67.27509964],\n",
       "       [  37.01397155,  -71.2148085 ],\n",
       "       [  32.93428547,  -42.47635499],\n",
       "       [  25.04731837,  -64.53038184],\n",
       "       [  30.49825683,  -64.02780523],\n",
       "       [  22.24668284,  -59.4514962 ],\n",
       "       [  24.68848143,  -56.21126055],\n",
       "       [  25.40287883,  -47.60052476],\n",
       "       [  26.08373354,  -62.57649213],\n",
       "       [  34.06758609,  -69.84691453],\n",
       "       [  31.13729967,  -49.54285797],\n",
       "       [  21.96258383,  -58.52292913],\n",
       "       [  31.29941397,  -53.74541703],\n",
       "       [  23.81524645,  -70.5636529 ],\n",
       "       [  32.60970783,  -57.62412261],\n",
       "       [  31.25246425,  -57.22841432],\n",
       "       [  26.59987639,  -58.14197042],\n",
       "       [  31.46536237,  -65.71481134],\n",
       "       [  39.32887256,  -56.20933663],\n",
       "       [  24.04348251,  -54.74757113],\n",
       "       [  25.12659165,  -53.70332317],\n",
       "       [  35.7929779 ,  -66.56545855],\n",
       "       [  34.81688065,  -56.69775258],\n",
       "       [  34.1103008 ,  -44.82565614],\n",
       "       [  28.77305942,  -66.02988931],\n",
       "       [  25.55242785,  -66.52648228],\n",
       "       [  29.61449145,  -57.2707842 ],\n",
       "       [  31.383454  ,  -53.38253401],\n",
       "       [  30.06500946,  -48.37172738],\n",
       "       [  28.67671583,  -38.23864667],\n",
       "       [  54.37967143,  -88.57157556],\n",
       "       [  42.50375251,  -75.17527585],\n",
       "       [  48.4357605 ,  -72.85999506],\n",
       "       [  53.31266337,  -80.72828913],\n",
       "       [  44.07244397,  -95.14847225],\n",
       "       [  46.87439534,  -71.43601206],\n",
       "       [  51.49865621,  -92.45738779],\n",
       "       [  51.21226648,  -76.1468262 ],\n",
       "       [  43.81299795,  -78.46274894],\n",
       "       [  50.40746103,  -91.42970298],\n",
       "       [  52.50451152,  -74.39215474],\n",
       "       [  57.5813587 ,  -69.46197948],\n",
       "       [  40.35631442,  -89.3782504 ],\n",
       "       [  53.60524687,  -74.86214049],\n",
       "       [  53.6053338 ,  -41.47268509],\n",
       "       [  53.99623357,  -68.6443436 ],\n",
       "       [  56.67801234,  -73.48608749],\n",
       "       [  47.79311529,  -72.4103078 ],\n",
       "       [  44.5902235 ,  -82.36818607],\n",
       "       [  46.60245517,  -79.18125861],\n",
       "       [  66.20260997,  -98.67265193],\n",
       "       [  54.80382133,  -96.12715871],\n",
       "       [  46.69647694,  -69.11049403],\n",
       "       [  50.44996013,  -90.77744778],\n",
       "       [  44.99287404,  -73.20402251],\n",
       "       [  44.88743358,  -77.8354141 ],\n",
       "       [  50.31900288,  -86.51600348],\n",
       "       [  65.00760863,  -73.66080978],\n",
       "       [  35.82400189,  -78.13545685],\n",
       "       [  45.36749475,  -71.47566665],\n",
       "       [   5.        ,  -95.        ],\n",
       "       [  50.        , -100.        ],\n",
       "       [  70.        , -110.        ],\n",
       "       [  80.        , -120.        ],\n",
       "       [  90.        , -130.        ]])"
      ]
     },
     "execution_count": 31,
     "metadata": {},
     "output_type": "execute_result"
    }
   ],
   "source": [
    "wifi_signals\n"
   ]
  },
  {
   "cell_type": "code",
   "execution_count": 35,
   "id": "5a3329dd-2c44-46ce-8058-509bb7dd44ea",
   "metadata": {},
   "outputs": [],
   "source": [
    "scaler = StandardScaler()\n",
    "wifi_signals_scaled = scaler.fit_transform(wifi_signals)"
   ]
  },
  {
   "cell_type": "code",
   "execution_count": 37,
   "id": "d7c687ef-725a-4b4c-b0ee-8488199df00b",
   "metadata": {},
   "outputs": [],
   "source": [
    "dbscan = DBSCAN(eps = 0.5, min_samples = 5)\n",
    "labels = dbscan.fit_predict(wifi_signals_scaled)"
   ]
  },
  {
   "cell_type": "code",
   "execution_count": 39,
   "id": "ebaab4d2-7df4-4867-b34c-c2bfb562c3a2",
   "metadata": {},
   "outputs": [],
   "source": [
    "core_samples_mask = np.zeros_like(labels, dtype=bool)"
   ]
  },
  {
   "cell_type": "code",
   "execution_count": 41,
   "id": "6b4774f9-cf20-4845-a71b-1cb118b1699c",
   "metadata": {},
   "outputs": [],
   "source": [
    "core_samples_mask[dbscan.core_sample_indices_] = True"
   ]
  },
  {
   "cell_type": "code",
   "execution_count": 47,
   "id": "572f5389-1814-4d16-98ed-0eb15c275bea",
   "metadata": {},
   "outputs": [
    {
     "data": {
      "text/plain": [
       "<Figure size 1200x700 with 0 Axes>"
      ]
     },
     "execution_count": 47,
     "metadata": {},
     "output_type": "execute_result"
    },
    {
     "data": {
      "text/plain": [
       "<Figure size 1200x700 with 0 Axes>"
      ]
     },
     "metadata": {},
     "output_type": "display_data"
    }
   ],
   "source": [
    "plt.figure(figsize=(12,7))\n"
   ]
  },
  {
   "cell_type": "code",
   "execution_count": 57,
   "id": "ed149830-c31b-465b-b0d4-f555a4de9cd2",
   "metadata": {},
   "outputs": [],
   "source": [
    "unique_labels = set(labels)\n",
    "colors = plt.cm.viridis(np.linspace(0,1, len(unique_labels)))"
   ]
  },
  {
   "cell_type": "code",
   "execution_count": 61,
   "id": "0ebeebb4-2ca9-436f-9ca0-79fd5161044e",
   "metadata": {},
   "outputs": [],
   "source": [
    "for label, color in zip(unique_labels, colors):\n",
    "    cluster_points = wifi_signals[labels == label]"
   ]
  },
  {
   "cell_type": "code",
   "execution_count": 65,
   "id": "a0aae7b8-f8f4-4e02-a738-59f1440c7554",
   "metadata": {},
   "outputs": [
    {
     "data": {
      "image/png": "[encoded data removed]",
      "text/plain": [
       "<Figure size 640x480 with 1 Axes>"
      ]
     },
     "metadata": {},
     "output_type": "display_data"
    }
   ],
   "source": [
    "if label == -1:\n",
    "    plt.scatter(cluster_points[:,0], cluster_points[:,1], c ='red', marker = 'x', s = 100, label = 'outliers(dead zones)')"
   ]
  },
  {
   "cell_type": "code",
   "execution_count": 93,
   "id": "303d4aaf-1249-409a-b6f4-0140e6deb4a1",
   "metadata": {},
   "outputs": [
    {
     "data": {
      "image/png": "[encoded data removed]",
      "text/plain": [
       "<Figure size 640x480 with 1 Axes>"
      ]
     },
     "metadata": {},
     "output_type": "display_data"
    }
   ],
   "source": [
    "for label, color in zip(unique_labels, colors):\n",
    "    cluster_points = wifi_signals[labels == label]\n",
    "    if label == -1:\n",
    "        plt.scatter(cluster_points[:,0], cluster_points[:,1], c ='red', marker = 'x', s = 100, label = 'outliers(dead zones)')\n",
    "    else:\n",
    "        core_points = cluster_points[core_samples_mask[labels == label]]\n",
    "        plt.scatter(core_points[:,0],core_points[:,1],c='green', s = 80, label = f\"cluster{label} - strong signal\")\n",
    "        border_points = cluster_points[core_samples_mask[labels == label]]\n",
    "        plt.scatter(border_points[:,0],border_points[:,1],c='yellow', s = 60, edgecolors = 'black', label = f\"cluster{label} - weak signal\")\n",
    "        #give legends\n",
    "plt.xlabel(\"distance from Router (m)\")\n",
    "plt.ylabel(\"wifi signal Strength in a building(dBm)\")\n",
    "plt.title(\"DBSCAN clustering of wifi signal strength in a building\")\n",
    "plt.legend(loc=\"upper right\")\n",
    "plt.grid(True)\n",
    "plt.show()"
   ]
  },
  {
   "cell_type": "code",
   "execution_count": null,
   "id": "b01faea8-063b-46a1-8a6d-cfa4166d6ff4",
   "metadata": {},
   "outputs": [],
   "source": []
  }
 ],
 "metadata": {
  "kernelspec": {
   "display_name": "Python [conda env:anaconda3]",
   "language": "python",
   "name": "conda-env-anaconda3-py"
  },
  "language_info": {
   "codemirror_mode": {
    "name": "ipython",
    "version": 3
   },
   "file_extension": ".py",
   "mimetype": "text/x-python",
   "name": "python",
   "nbconvert_exporter": "python",
   "pygments_lexer": "ipython3",
   "version": "3.12.4"
  }
 },
 "nbformat": 4,
 "nbformat_minor": 5
}
