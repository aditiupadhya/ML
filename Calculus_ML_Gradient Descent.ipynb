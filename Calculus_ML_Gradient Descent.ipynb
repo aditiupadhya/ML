{
 "cells": [
  {
   "cell_type": "code",
   "execution_count": 84,
   "id": "9e540036-6985-461c-89e8-88e521276080",
   "metadata": {},
   "outputs": [],
   "source": [
    "import numpy as np"
   ]
  },
  {
   "cell_type": "code",
   "execution_count": 86,
   "id": "f8fe4ee9-4c00-4155-8238-8a3c03948c0f",
   "metadata": {},
   "outputs": [],
   "source": [
    "import random"
   ]
  },
  {
   "cell_type": "code",
   "execution_count": 88,
   "id": "29e50012-497d-4461-ae55-1007ae083551",
   "metadata": {},
   "outputs": [],
   "source": [
    "def gradient_descent(X, y, theta, learning_rate, iterations):\n",
    "    m=len(y)\n",
    "    for _ in range(iterations):\n",
    "        predictions = np.dot(X, theta)\n",
    "        errors = predictions - y\n",
    "        gradients = (1/m) * np.dot(X.T, errors)\n",
    "        theta -= learning_rate * gradients\n",
    "    return theta"
   ]
  },
  {
   "cell_type": "code",
   "execution_count": 108,
   "id": "da149c54-bc99-40e4-b9e8-42433ca664fb",
   "metadata": {},
   "outputs": [],
   "source": [
    "X =np.array([[1,1], [1,2], [1,3]])\n",
    "y =np.array([2,2.5,3.5])\n",
    "theta =np.array([0.1,0.1])\n",
    "learning_rate = 0.1\n",
    "iterations = 1000"
   ]
  },
  {
   "cell_type": "code",
   "execution_count": 110,
   "id": "e7c3c57a-0a4f-422d-91ed-6c33b088adef",
   "metadata": {},
   "outputs": [
    {
     "data": {
      "text/plain": [
       "array([1.166663  , 0.75000161])"
      ]
     },
     "execution_count": 110,
     "metadata": {},
     "output_type": "execute_result"
    }
   ],
   "source": [
    "optimized_theta = gradient_descent(X,y,theta, learning_rate, iterations)\n",
    "optimized_theta"
   ]
  },
  {
   "cell_type": "code",
   "execution_count": null,
   "id": "a4ba8b43-b06e-43ee-9f77-7096189ecad3",
   "metadata": {},
   "outputs": [],
   "source": []
  },
  {
   "cell_type": "code",
   "execution_count": null,
   "id": "b9974f0c-d4a7-4e62-9164-1bfc01539b8c",
   "metadata": {},
   "outputs": [],
   "source": []
  }
 ],
 "metadata": {
  "kernelspec": {
   "display_name": "Python [conda env:anaconda3]",
   "language": "python",
   "name": "conda-env-anaconda3-py"
  },
  "language_info": {
   "codemirror_mode": {
    "name": "ipython",
    "version": 3
   },
   "file_extension": ".py",
   "mimetype": "text/x-python",
   "name": "python",
   "nbconvert_exporter": "python",
   "pygments_lexer": "ipython3",
   "version": "3.12.4"
  }
 },
 "nbformat": 4,
 "nbformat_minor": 5
}
