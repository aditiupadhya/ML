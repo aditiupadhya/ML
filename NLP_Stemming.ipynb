{
 "cells": [
  {
   "cell_type": "code",
   "execution_count": 9,
   "id": "a3fd0b02-0449-466a-a937-fd80f84bb6c3",
   "metadata": {},
   "outputs": [],
   "source": [
    "words=[\"eating\",\"eats\",\"eaten\", \"writing\", \"writes\", \"programming\", \"programs\", \"history\", \"finally\",\"finalized\"]"
   ]
  },
  {
   "cell_type": "code",
   "execution_count": 11,
   "id": "0befc4a3-1218-4d4a-aa6b-91baae4d1147",
   "metadata": {},
   "outputs": [],
   "source": [
    "from nltk.stem import PorterStemmer"
   ]
  },
  {
   "cell_type": "code",
   "execution_count": 13,
   "id": "6a0e041c-c98b-4f16-9053-2257d560b159",
   "metadata": {},
   "outputs": [],
   "source": [
    "stemming = PorterStemmer()"
   ]
  },
  {
   "cell_type": "code",
   "execution_count": 15,
   "id": "e891478b-c5ac-4d38-b816-8f909534cb22",
   "metadata": {},
   "outputs": [
    {
     "name": "stdout",
     "output_type": "stream",
     "text": [
      "eating---->eat\n",
      "eats---->eat\n",
      "eaten---->eaten\n",
      "writing---->write\n",
      "writes---->write\n",
      "programming---->program\n",
      "programs---->program\n",
      "history---->histori\n",
      "finally---->final\n",
      "finalized---->final\n"
     ]
    }
   ],
   "source": [
    "for word in words:\n",
    "    print(word+\"---->\"+stemming.stem(word))"
   ]
  },
  {
   "cell_type": "markdown",
   "id": "74df6737-cbfc-4cf5-8ab5-4689bb8f906a",
   "metadata": {},
   "source": [
    "wrong stem, right stem=eaten-->eat,history-->history"
   ]
  },
  {
   "cell_type": "code",
   "execution_count": 23,
   "id": "f10ea859-afe2-429a-8ece-23529de8e738",
   "metadata": {},
   "outputs": [
    {
     "data": {
      "text/plain": [
       "'congratul'"
      ]
     },
     "execution_count": 23,
     "metadata": {},
     "output_type": "execute_result"
    }
   ],
   "source": [
    "stemming.stem(\"congratulations\")"
   ]
  },
  {
   "cell_type": "markdown",
   "id": "07ef5a7c-7e6e-490e-b16c-8a06c983882d",
   "metadata": {},
   "source": [
    "wrong stem, right stem=congratualte"
   ]
  },
  {
   "cell_type": "code",
   "execution_count": 29,
   "id": "88efe3c4-61a7-427e-811f-1d66bba18815",
   "metadata": {},
   "outputs": [
    {
     "data": {
      "text/plain": [
       "'sit'"
      ]
     },
     "execution_count": 29,
     "metadata": {},
     "output_type": "execute_result"
    }
   ],
   "source": [
    "stemming.stem('Sitting')"
   ]
  },
  {
   "cell_type": "markdown",
   "id": "09a876c6-f3cd-4e4d-8569-c53040a5413c",
   "metadata": {},
   "source": [
    "but very useful for EMAIL SPAM RECOGNISATION"
   ]
  },
  {
   "cell_type": "markdown",
   "id": "81b9ab36-30f8-4c5c-aed5-4c19cba55bc6",
   "metadata": {},
   "source": [
    "REGEXSTEMMER CLASS"
   ]
  },
  {
   "cell_type": "code",
   "execution_count": 33,
   "id": "39fdab15-9b03-407a-97ad-152f1713b1cc",
   "metadata": {},
   "outputs": [],
   "source": [
    "from nltk.stem import RegexpStemmer"
   ]
  },
  {
   "cell_type": "code",
   "execution_count": 51,
   "id": "5caffae3-9d90-4081-85f6-5f5febaadabf",
   "metadata": {},
   "outputs": [],
   "source": [
    "reg_stemmer = RegexpStemmer('ing$|s$|e$|able$', min=4)"
   ]
  },
  {
   "cell_type": "code",
   "execution_count": 53,
   "id": "4bca3e9c-7896-45d6-9c35-4aa1db25a578",
   "metadata": {},
   "outputs": [
    {
     "data": {
      "text/plain": [
       "'eat'"
      ]
     },
     "execution_count": 53,
     "metadata": {},
     "output_type": "execute_result"
    }
   ],
   "source": [
    "reg_stemmer.stem('eating')"
   ]
  },
  {
   "cell_type": "code",
   "execution_count": 55,
   "id": "e6094a01-4811-41a7-8b00-92c999478df6",
   "metadata": {},
   "outputs": [
    {
     "data": {
      "text/plain": [
       "'ingeat'"
      ]
     },
     "execution_count": 55,
     "metadata": {},
     "output_type": "execute_result"
    }
   ],
   "source": [
    "reg_stemmer.stem('ingeating')"
   ]
  },
  {
   "cell_type": "markdown",
   "id": "a9f6965c-5260-42be-bd52-bb95963e516e",
   "metadata": {},
   "source": [
    "SNOWBALL STEMMER"
   ]
  },
  {
   "cell_type": "code",
   "execution_count": 64,
   "id": "07144b36-4979-4b5a-8f54-11fbffe2c6c5",
   "metadata": {},
   "outputs": [],
   "source": [
    "from nltk.stem import SnowballStemmer"
   ]
  },
  {
   "cell_type": "code",
   "execution_count": 66,
   "id": "d881f2d2-afc3-4020-acea-81de5f46698d",
   "metadata": {},
   "outputs": [],
   "source": [
    "snowballstemmer = SnowballStemmer('english')"
   ]
  },
  {
   "cell_type": "code",
   "execution_count": 70,
   "id": "94721c5c-be30-4e37-9c5f-6c3cad73f6b4",
   "metadata": {},
   "outputs": [
    {
     "name": "stdout",
     "output_type": "stream",
     "text": [
      "eating--->eat\n",
      "eats--->eat\n",
      "eaten--->eaten\n",
      "writing--->write\n",
      "writes--->write\n",
      "programming--->program\n",
      "programs--->program\n",
      "history--->histori\n",
      "finally--->final\n",
      "finalized--->final\n"
     ]
    }
   ],
   "source": [
    "for word in words:\n",
    "    print(word+\"--->\"+snowballstemmer.stem(word))"
   ]
  },
  {
   "cell_type": "code",
   "execution_count": 72,
   "id": "f8463c26-52f8-4c8c-9040-3c28aaa39fb9",
   "metadata": {},
   "outputs": [
    {
     "data": {
      "text/plain": [
       "('fairli', 'sportingli')"
      ]
     },
     "execution_count": 72,
     "metadata": {},
     "output_type": "execute_result"
    }
   ],
   "source": [
    "stemming.stem('fairly'),stemming.stem(\"sportingly\")"
   ]
  },
  {
   "cell_type": "code",
   "execution_count": 74,
   "id": "7bfac317-963b-479f-b207-54e97cd2ab6e",
   "metadata": {},
   "outputs": [
    {
     "data": {
      "text/plain": [
       "('fair', 'sport')"
      ]
     },
     "execution_count": 74,
     "metadata": {},
     "output_type": "execute_result"
    }
   ],
   "source": [
    "snowballstemmer.stem('fairly'),snowballstemmer.stem(\"sportingly\")"
   ]
  },
  {
   "cell_type": "code",
   "execution_count": 76,
   "id": "07ee2320-a88a-43b1-8013-42f8f8373887",
   "metadata": {},
   "outputs": [
    {
     "data": {
      "text/plain": [
       "'goe'"
      ]
     },
     "execution_count": 76,
     "metadata": {},
     "output_type": "execute_result"
    }
   ],
   "source": [
    "snowballstemmer.stem('goes')"
   ]
  },
  {
   "cell_type": "code",
   "execution_count": null,
   "id": "f8bd3803-db90-45cf-bf52-4a6273945d57",
   "metadata": {},
   "outputs": [],
   "source": [
    "so there are drwbacks in the stemming"
   ]
  }
 ],
 "metadata": {
  "kernelspec": {
   "display_name": "Python [conda env:anaconda3]",
   "language": "python",
   "name": "conda-env-anaconda3-py"
  },
  "language_info": {
   "codemirror_mode": {
    "name": "ipython",
    "version": 3
   },
   "file_extension": ".py",
   "mimetype": "text/x-python",
   "name": "python",
   "nbconvert_exporter": "python",
   "pygments_lexer": "ipython3",
   "version": "3.12.4"
  }
 },
 "nbformat": 4,
 "nbformat_minor": 5
}
